{
  "nbformat": 4,
  "nbformat_minor": 0,
  "metadata": {
    "colab": {
      "provenance": [],
      "include_colab_link": true
    },
    "kernelspec": {
      "name": "python3",
      "display_name": "Python 3"
    },
    "language_info": {
      "name": "python"
    },
    "accelerator": "GPU",
    "gpuClass": "standard"
  },
  "cells": [
    {
      "cell_type": "markdown",
      "metadata": {
        "id": "view-in-github",
        "colab_type": "text"
      },
      "source": [
        "<a href=\"https://colab.research.google.com/github/BharaniSri10/CXXGraph/blob/master/SMOTEFULLFEATURESNEWReview2.ipynb\" target=\"_parent\"><img src=\"https://colab.research.google.com/assets/colab-badge.svg\" alt=\"Open In Colab\"/></a>"
      ]
    },
    {
      "cell_type": "code",
      "execution_count": null,
      "metadata": {
        "id": "35yS02tCmsSu"
      },
      "outputs": [],
      "source": [
        "\n",
        "# Importing the necessary libraries\n",
        "import pandas as pd\n",
        "import numpy as np\n",
        "import matplotlib.pyplot as pltz\n",
        "from sklearn.model_selection import train_test_split\n"
      ]
    },
    {
      "cell_type": "code",
      "source": [
        "data=pd.read_csv(\"kidney_disease.csv\")"
      ],
      "metadata": {
        "id": "YZEjmhnjQo7J"
      },
      "execution_count": null,
      "outputs": []
    },
    {
      "cell_type": "code",
      "source": [
        "data = data.sample(frac = 1)\n",
        "data"
      ],
      "metadata": {
        "colab": {
          "base_uri": "https://localhost:8080/",
          "height": 488
        },
        "id": "XzMFOiY--WKw",
        "outputId": "edda51e5-aa44-49da-a09d-950a07ffff39"
      },
      "execution_count": null,
      "outputs": [
        {
          "output_type": "execute_result",
          "data": {
            "text/plain": [
              "      id   age    bp     sg   al   su       rbc      pc         pcc  \\\n",
              "151  151  76.0  90.0    NaN  NaN  NaN       NaN     NaN  notpresent   \n",
              "372  372  72.0  60.0  1.020  0.0  0.0    normal  normal  notpresent   \n",
              "126  126  70.0  90.0  1.015  0.0  0.0       NaN  normal  notpresent   \n",
              "116  116   NaN  70.0  1.015  4.0  0.0  abnormal  normal  notpresent   \n",
              "290  290  54.0  70.0  1.020  0.0  0.0       NaN     NaN         NaN   \n",
              "..   ...   ...   ...    ...  ...  ...       ...     ...         ...   \n",
              "173  173  17.0  70.0  1.015  1.0  0.0  abnormal  normal  notpresent   \n",
              "377  377  64.0  70.0  1.020  0.0  0.0    normal  normal  notpresent   \n",
              "53    53  62.0  80.0  1.015  0.0  5.0       NaN     NaN  notpresent   \n",
              "397  397  12.0  80.0  1.020  0.0  0.0    normal  normal  notpresent   \n",
              "141  141  67.0  70.0  1.010  1.0  0.0    normal  normal  notpresent   \n",
              "\n",
              "             ba  ...  pcv     wc   rc  htn   dm  cad appet   pe  ane  \\\n",
              "151  notpresent  ...   30    NaN  NaN  yes  yes   no  good   no  yes   \n",
              "372  notpresent  ...   52  10500  5.5   no   no   no  good   no   no   \n",
              "126  notpresent  ...   37   8200  4.5  yes  yes   no  poor  yes   no   \n",
              "116  notpresent  ...  NaN    NaN  NaN   no   no   no  good  yes   no   \n",
              "290         NaN  ...   52   8400  5.9   no   no   no  good   no   no   \n",
              "..          ...  ...  ...    ...  ...  ...  ...  ...   ...  ...  ...   \n",
              "173  notpresent  ...   41  11200  NaN   no   no   no  good   no   no   \n",
              "377  notpresent  ...   49   6400  4.8   no   no   no  good   no   no   \n",
              "53   notpresent  ...   40   8500  4.7  yes  yes   no  good   no   no   \n",
              "397  notpresent  ...   49   6600  5.4   no   no   no  good   no   no   \n",
              "141  notpresent  ...   19   6500  NaN  yes   no   no  good   no  yes   \n",
              "\n",
              "    classification  \n",
              "151            ckd  \n",
              "372         notckd  \n",
              "126            ckd  \n",
              "116            ckd  \n",
              "290         notckd  \n",
              "..             ...  \n",
              "173            ckd  \n",
              "377         notckd  \n",
              "53             ckd  \n",
              "397         notckd  \n",
              "141            ckd  \n",
              "\n",
              "[400 rows x 26 columns]"
            ],
            "text/html": [
              "\n",
              "  <div id=\"df-a1fea01b-8f4c-4e2c-8323-9684c9c96888\">\n",
              "    <div class=\"colab-df-container\">\n",
              "      <div>\n",
              "<style scoped>\n",
              "    .dataframe tbody tr th:only-of-type {\n",
              "        vertical-align: middle;\n",
              "    }\n",
              "\n",
              "    .dataframe tbody tr th {\n",
              "        vertical-align: top;\n",
              "    }\n",
              "\n",
              "    .dataframe thead th {\n",
              "        text-align: right;\n",
              "    }\n",
              "</style>\n",
              "<table border=\"1\" class=\"dataframe\">\n",
              "  <thead>\n",
              "    <tr style=\"text-align: right;\">\n",
              "      <th></th>\n",
              "      <th>id</th>\n",
              "      <th>age</th>\n",
              "      <th>bp</th>\n",
              "      <th>sg</th>\n",
              "      <th>al</th>\n",
              "      <th>su</th>\n",
              "      <th>rbc</th>\n",
              "      <th>pc</th>\n",
              "      <th>pcc</th>\n",
              "      <th>ba</th>\n",
              "      <th>...</th>\n",
              "      <th>pcv</th>\n",
              "      <th>wc</th>\n",
              "      <th>rc</th>\n",
              "      <th>htn</th>\n",
              "      <th>dm</th>\n",
              "      <th>cad</th>\n",
              "      <th>appet</th>\n",
              "      <th>pe</th>\n",
              "      <th>ane</th>\n",
              "      <th>classification</th>\n",
              "    </tr>\n",
              "  </thead>\n",
              "  <tbody>\n",
              "    <tr>\n",
              "      <th>151</th>\n",
              "      <td>151</td>\n",
              "      <td>76.0</td>\n",
              "      <td>90.0</td>\n",
              "      <td>NaN</td>\n",
              "      <td>NaN</td>\n",
              "      <td>NaN</td>\n",
              "      <td>NaN</td>\n",
              "      <td>NaN</td>\n",
              "      <td>notpresent</td>\n",
              "      <td>notpresent</td>\n",
              "      <td>...</td>\n",
              "      <td>30</td>\n",
              "      <td>NaN</td>\n",
              "      <td>NaN</td>\n",
              "      <td>yes</td>\n",
              "      <td>yes</td>\n",
              "      <td>no</td>\n",
              "      <td>good</td>\n",
              "      <td>no</td>\n",
              "      <td>yes</td>\n",
              "      <td>ckd</td>\n",
              "    </tr>\n",
              "    <tr>\n",
              "      <th>372</th>\n",
              "      <td>372</td>\n",
              "      <td>72.0</td>\n",
              "      <td>60.0</td>\n",
              "      <td>1.020</td>\n",
              "      <td>0.0</td>\n",
              "      <td>0.0</td>\n",
              "      <td>normal</td>\n",
              "      <td>normal</td>\n",
              "      <td>notpresent</td>\n",
              "      <td>notpresent</td>\n",
              "      <td>...</td>\n",
              "      <td>52</td>\n",
              "      <td>10500</td>\n",
              "      <td>5.5</td>\n",
              "      <td>no</td>\n",
              "      <td>no</td>\n",
              "      <td>no</td>\n",
              "      <td>good</td>\n",
              "      <td>no</td>\n",
              "      <td>no</td>\n",
              "      <td>notckd</td>\n",
              "    </tr>\n",
              "    <tr>\n",
              "      <th>126</th>\n",
              "      <td>126</td>\n",
              "      <td>70.0</td>\n",
              "      <td>90.0</td>\n",
              "      <td>1.015</td>\n",
              "      <td>0.0</td>\n",
              "      <td>0.0</td>\n",
              "      <td>NaN</td>\n",
              "      <td>normal</td>\n",
              "      <td>notpresent</td>\n",
              "      <td>notpresent</td>\n",
              "      <td>...</td>\n",
              "      <td>37</td>\n",
              "      <td>8200</td>\n",
              "      <td>4.5</td>\n",
              "      <td>yes</td>\n",
              "      <td>yes</td>\n",
              "      <td>no</td>\n",
              "      <td>poor</td>\n",
              "      <td>yes</td>\n",
              "      <td>no</td>\n",
              "      <td>ckd</td>\n",
              "    </tr>\n",
              "    <tr>\n",
              "      <th>116</th>\n",
              "      <td>116</td>\n",
              "      <td>NaN</td>\n",
              "      <td>70.0</td>\n",
              "      <td>1.015</td>\n",
              "      <td>4.0</td>\n",
              "      <td>0.0</td>\n",
              "      <td>abnormal</td>\n",
              "      <td>normal</td>\n",
              "      <td>notpresent</td>\n",
              "      <td>notpresent</td>\n",
              "      <td>...</td>\n",
              "      <td>NaN</td>\n",
              "      <td>NaN</td>\n",
              "      <td>NaN</td>\n",
              "      <td>no</td>\n",
              "      <td>no</td>\n",
              "      <td>no</td>\n",
              "      <td>good</td>\n",
              "      <td>yes</td>\n",
              "      <td>no</td>\n",
              "      <td>ckd</td>\n",
              "    </tr>\n",
              "    <tr>\n",
              "      <th>290</th>\n",
              "      <td>290</td>\n",
              "      <td>54.0</td>\n",
              "      <td>70.0</td>\n",
              "      <td>1.020</td>\n",
              "      <td>0.0</td>\n",
              "      <td>0.0</td>\n",
              "      <td>NaN</td>\n",
              "      <td>NaN</td>\n",
              "      <td>NaN</td>\n",
              "      <td>NaN</td>\n",
              "      <td>...</td>\n",
              "      <td>52</td>\n",
              "      <td>8400</td>\n",
              "      <td>5.9</td>\n",
              "      <td>no</td>\n",
              "      <td>no</td>\n",
              "      <td>no</td>\n",
              "      <td>good</td>\n",
              "      <td>no</td>\n",
              "      <td>no</td>\n",
              "      <td>notckd</td>\n",
              "    </tr>\n",
              "    <tr>\n",
              "      <th>...</th>\n",
              "      <td>...</td>\n",
              "      <td>...</td>\n",
              "      <td>...</td>\n",
              "      <td>...</td>\n",
              "      <td>...</td>\n",
              "      <td>...</td>\n",
              "      <td>...</td>\n",
              "      <td>...</td>\n",
              "      <td>...</td>\n",
              "      <td>...</td>\n",
              "      <td>...</td>\n",
              "      <td>...</td>\n",
              "      <td>...</td>\n",
              "      <td>...</td>\n",
              "      <td>...</td>\n",
              "      <td>...</td>\n",
              "      <td>...</td>\n",
              "      <td>...</td>\n",
              "      <td>...</td>\n",
              "      <td>...</td>\n",
              "      <td>...</td>\n",
              "    </tr>\n",
              "    <tr>\n",
              "      <th>173</th>\n",
              "      <td>173</td>\n",
              "      <td>17.0</td>\n",
              "      <td>70.0</td>\n",
              "      <td>1.015</td>\n",
              "      <td>1.0</td>\n",
              "      <td>0.0</td>\n",
              "      <td>abnormal</td>\n",
              "      <td>normal</td>\n",
              "      <td>notpresent</td>\n",
              "      <td>notpresent</td>\n",
              "      <td>...</td>\n",
              "      <td>41</td>\n",
              "      <td>11200</td>\n",
              "      <td>NaN</td>\n",
              "      <td>no</td>\n",
              "      <td>no</td>\n",
              "      <td>no</td>\n",
              "      <td>good</td>\n",
              "      <td>no</td>\n",
              "      <td>no</td>\n",
              "      <td>ckd</td>\n",
              "    </tr>\n",
              "    <tr>\n",
              "      <th>377</th>\n",
              "      <td>377</td>\n",
              "      <td>64.0</td>\n",
              "      <td>70.0</td>\n",
              "      <td>1.020</td>\n",
              "      <td>0.0</td>\n",
              "      <td>0.0</td>\n",
              "      <td>normal</td>\n",
              "      <td>normal</td>\n",
              "      <td>notpresent</td>\n",
              "      <td>notpresent</td>\n",
              "      <td>...</td>\n",
              "      <td>49</td>\n",
              "      <td>6400</td>\n",
              "      <td>4.8</td>\n",
              "      <td>no</td>\n",
              "      <td>no</td>\n",
              "      <td>no</td>\n",
              "      <td>good</td>\n",
              "      <td>no</td>\n",
              "      <td>no</td>\n",
              "      <td>notckd</td>\n",
              "    </tr>\n",
              "    <tr>\n",
              "      <th>53</th>\n",
              "      <td>53</td>\n",
              "      <td>62.0</td>\n",
              "      <td>80.0</td>\n",
              "      <td>1.015</td>\n",
              "      <td>0.0</td>\n",
              "      <td>5.0</td>\n",
              "      <td>NaN</td>\n",
              "      <td>NaN</td>\n",
              "      <td>notpresent</td>\n",
              "      <td>notpresent</td>\n",
              "      <td>...</td>\n",
              "      <td>40</td>\n",
              "      <td>8500</td>\n",
              "      <td>4.7</td>\n",
              "      <td>yes</td>\n",
              "      <td>yes</td>\n",
              "      <td>no</td>\n",
              "      <td>good</td>\n",
              "      <td>no</td>\n",
              "      <td>no</td>\n",
              "      <td>ckd</td>\n",
              "    </tr>\n",
              "    <tr>\n",
              "      <th>397</th>\n",
              "      <td>397</td>\n",
              "      <td>12.0</td>\n",
              "      <td>80.0</td>\n",
              "      <td>1.020</td>\n",
              "      <td>0.0</td>\n",
              "      <td>0.0</td>\n",
              "      <td>normal</td>\n",
              "      <td>normal</td>\n",
              "      <td>notpresent</td>\n",
              "      <td>notpresent</td>\n",
              "      <td>...</td>\n",
              "      <td>49</td>\n",
              "      <td>6600</td>\n",
              "      <td>5.4</td>\n",
              "      <td>no</td>\n",
              "      <td>no</td>\n",
              "      <td>no</td>\n",
              "      <td>good</td>\n",
              "      <td>no</td>\n",
              "      <td>no</td>\n",
              "      <td>notckd</td>\n",
              "    </tr>\n",
              "    <tr>\n",
              "      <th>141</th>\n",
              "      <td>141</td>\n",
              "      <td>67.0</td>\n",
              "      <td>70.0</td>\n",
              "      <td>1.010</td>\n",
              "      <td>1.0</td>\n",
              "      <td>0.0</td>\n",
              "      <td>normal</td>\n",
              "      <td>normal</td>\n",
              "      <td>notpresent</td>\n",
              "      <td>notpresent</td>\n",
              "      <td>...</td>\n",
              "      <td>19</td>\n",
              "      <td>6500</td>\n",
              "      <td>NaN</td>\n",
              "      <td>yes</td>\n",
              "      <td>no</td>\n",
              "      <td>no</td>\n",
              "      <td>good</td>\n",
              "      <td>no</td>\n",
              "      <td>yes</td>\n",
              "      <td>ckd</td>\n",
              "    </tr>\n",
              "  </tbody>\n",
              "</table>\n",
              "<p>400 rows × 26 columns</p>\n",
              "</div>\n",
              "      <button class=\"colab-df-convert\" onclick=\"convertToInteractive('df-a1fea01b-8f4c-4e2c-8323-9684c9c96888')\"\n",
              "              title=\"Convert this dataframe to an interactive table.\"\n",
              "              style=\"display:none;\">\n",
              "        \n",
              "  <svg xmlns=\"http://www.w3.org/2000/svg\" height=\"24px\"viewBox=\"0 0 24 24\"\n",
              "       width=\"24px\">\n",
              "    <path d=\"M0 0h24v24H0V0z\" fill=\"none\"/>\n",
              "    <path d=\"M18.56 5.44l.94 2.06.94-2.06 2.06-.94-2.06-.94-.94-2.06-.94 2.06-2.06.94zm-11 1L8.5 8.5l.94-2.06 2.06-.94-2.06-.94L8.5 2.5l-.94 2.06-2.06.94zm10 10l.94 2.06.94-2.06 2.06-.94-2.06-.94-.94-2.06-.94 2.06-2.06.94z\"/><path d=\"M17.41 7.96l-1.37-1.37c-.4-.4-.92-.59-1.43-.59-.52 0-1.04.2-1.43.59L10.3 9.45l-7.72 7.72c-.78.78-.78 2.05 0 2.83L4 21.41c.39.39.9.59 1.41.59.51 0 1.02-.2 1.41-.59l7.78-7.78 2.81-2.81c.8-.78.8-2.07 0-2.86zM5.41 20L4 18.59l7.72-7.72 1.47 1.35L5.41 20z\"/>\n",
              "  </svg>\n",
              "      </button>\n",
              "      \n",
              "  <style>\n",
              "    .colab-df-container {\n",
              "      display:flex;\n",
              "      flex-wrap:wrap;\n",
              "      gap: 12px;\n",
              "    }\n",
              "\n",
              "    .colab-df-convert {\n",
              "      background-color: #E8F0FE;\n",
              "      border: none;\n",
              "      border-radius: 50%;\n",
              "      cursor: pointer;\n",
              "      display: none;\n",
              "      fill: #1967D2;\n",
              "      height: 32px;\n",
              "      padding: 0 0 0 0;\n",
              "      width: 32px;\n",
              "    }\n",
              "\n",
              "    .colab-df-convert:hover {\n",
              "      background-color: #E2EBFA;\n",
              "      box-shadow: 0px 1px 2px rgba(60, 64, 67, 0.3), 0px 1px 3px 1px rgba(60, 64, 67, 0.15);\n",
              "      fill: #174EA6;\n",
              "    }\n",
              "\n",
              "    [theme=dark] .colab-df-convert {\n",
              "      background-color: #3B4455;\n",
              "      fill: #D2E3FC;\n",
              "    }\n",
              "\n",
              "    [theme=dark] .colab-df-convert:hover {\n",
              "      background-color: #434B5C;\n",
              "      box-shadow: 0px 1px 3px 1px rgba(0, 0, 0, 0.15);\n",
              "      filter: drop-shadow(0px 1px 2px rgba(0, 0, 0, 0.3));\n",
              "      fill: #FFFFFF;\n",
              "    }\n",
              "  </style>\n",
              "\n",
              "      <script>\n",
              "        const buttonEl =\n",
              "          document.querySelector('#df-a1fea01b-8f4c-4e2c-8323-9684c9c96888 button.colab-df-convert');\n",
              "        buttonEl.style.display =\n",
              "          google.colab.kernel.accessAllowed ? 'block' : 'none';\n",
              "\n",
              "        async function convertToInteractive(key) {\n",
              "          const element = document.querySelector('#df-a1fea01b-8f4c-4e2c-8323-9684c9c96888');\n",
              "          const dataTable =\n",
              "            await google.colab.kernel.invokeFunction('convertToInteractive',\n",
              "                                                     [key], {});\n",
              "          if (!dataTable) return;\n",
              "\n",
              "          const docLinkHtml = 'Like what you see? Visit the ' +\n",
              "            '<a target=\"_blank\" href=https://colab.research.google.com/notebooks/data_table.ipynb>data table notebook</a>'\n",
              "            + ' to learn more about interactive tables.';\n",
              "          element.innerHTML = '';\n",
              "          dataTable['output_type'] = 'display_data';\n",
              "          await google.colab.output.renderOutput(dataTable, element);\n",
              "          const docLink = document.createElement('div');\n",
              "          docLink.innerHTML = docLinkHtml;\n",
              "          element.appendChild(docLink);\n",
              "        }\n",
              "      </script>\n",
              "    </div>\n",
              "  </div>\n",
              "  "
            ]
          },
          "metadata": {},
          "execution_count": 3
        }
      ]
    },
    {
      "cell_type": "code",
      "source": [
        "data.describe()"
      ],
      "metadata": {
        "colab": {
          "base_uri": "https://localhost:8080/",
          "height": 364
        },
        "id": "GsOWfQ_qRR7P",
        "outputId": "32426a50-bfcd-4421-8de5-ec0b94f848d0"
      },
      "execution_count": null,
      "outputs": [
        {
          "output_type": "execute_result",
          "data": {
            "text/plain": [
              "               id         age          bp          sg          al          su  \\\n",
              "count  400.000000  391.000000  388.000000  353.000000  354.000000  351.000000   \n",
              "mean   199.500000   51.483376   76.469072    1.017408    1.016949    0.450142   \n",
              "std    115.614301   17.169714   13.683637    0.005717    1.352679    1.099191   \n",
              "min      0.000000    2.000000   50.000000    1.005000    0.000000    0.000000   \n",
              "25%     99.750000   42.000000   70.000000    1.010000    0.000000    0.000000   \n",
              "50%    199.500000   55.000000   80.000000    1.020000    0.000000    0.000000   \n",
              "75%    299.250000   64.500000   80.000000    1.020000    2.000000    0.000000   \n",
              "max    399.000000   90.000000  180.000000    1.025000    5.000000    5.000000   \n",
              "\n",
              "              bgr          bu          sc         sod         pot        hemo  \n",
              "count  356.000000  381.000000  383.000000  313.000000  312.000000  348.000000  \n",
              "mean   148.036517   57.425722    3.072454  137.528754    4.627244   12.526437  \n",
              "std     79.281714   50.503006    5.741126   10.408752    3.193904    2.912587  \n",
              "min     22.000000    1.500000    0.400000    4.500000    2.500000    3.100000  \n",
              "25%     99.000000   27.000000    0.900000  135.000000    3.800000   10.300000  \n",
              "50%    121.000000   42.000000    1.300000  138.000000    4.400000   12.650000  \n",
              "75%    163.000000   66.000000    2.800000  142.000000    4.900000   15.000000  \n",
              "max    490.000000  391.000000   76.000000  163.000000   47.000000   17.800000  "
            ],
            "text/html": [
              "\n",
              "  <div id=\"df-ea54bb41-f0be-4b44-b012-0c2dd0f5b91b\">\n",
              "    <div class=\"colab-df-container\">\n",
              "      <div>\n",
              "<style scoped>\n",
              "    .dataframe tbody tr th:only-of-type {\n",
              "        vertical-align: middle;\n",
              "    }\n",
              "\n",
              "    .dataframe tbody tr th {\n",
              "        vertical-align: top;\n",
              "    }\n",
              "\n",
              "    .dataframe thead th {\n",
              "        text-align: right;\n",
              "    }\n",
              "</style>\n",
              "<table border=\"1\" class=\"dataframe\">\n",
              "  <thead>\n",
              "    <tr style=\"text-align: right;\">\n",
              "      <th></th>\n",
              "      <th>id</th>\n",
              "      <th>age</th>\n",
              "      <th>bp</th>\n",
              "      <th>sg</th>\n",
              "      <th>al</th>\n",
              "      <th>su</th>\n",
              "      <th>bgr</th>\n",
              "      <th>bu</th>\n",
              "      <th>sc</th>\n",
              "      <th>sod</th>\n",
              "      <th>pot</th>\n",
              "      <th>hemo</th>\n",
              "    </tr>\n",
              "  </thead>\n",
              "  <tbody>\n",
              "    <tr>\n",
              "      <th>count</th>\n",
              "      <td>400.000000</td>\n",
              "      <td>391.000000</td>\n",
              "      <td>388.000000</td>\n",
              "      <td>353.000000</td>\n",
              "      <td>354.000000</td>\n",
              "      <td>351.000000</td>\n",
              "      <td>356.000000</td>\n",
              "      <td>381.000000</td>\n",
              "      <td>383.000000</td>\n",
              "      <td>313.000000</td>\n",
              "      <td>312.000000</td>\n",
              "      <td>348.000000</td>\n",
              "    </tr>\n",
              "    <tr>\n",
              "      <th>mean</th>\n",
              "      <td>199.500000</td>\n",
              "      <td>51.483376</td>\n",
              "      <td>76.469072</td>\n",
              "      <td>1.017408</td>\n",
              "      <td>1.016949</td>\n",
              "      <td>0.450142</td>\n",
              "      <td>148.036517</td>\n",
              "      <td>57.425722</td>\n",
              "      <td>3.072454</td>\n",
              "      <td>137.528754</td>\n",
              "      <td>4.627244</td>\n",
              "      <td>12.526437</td>\n",
              "    </tr>\n",
              "    <tr>\n",
              "      <th>std</th>\n",
              "      <td>115.614301</td>\n",
              "      <td>17.169714</td>\n",
              "      <td>13.683637</td>\n",
              "      <td>0.005717</td>\n",
              "      <td>1.352679</td>\n",
              "      <td>1.099191</td>\n",
              "      <td>79.281714</td>\n",
              "      <td>50.503006</td>\n",
              "      <td>5.741126</td>\n",
              "      <td>10.408752</td>\n",
              "      <td>3.193904</td>\n",
              "      <td>2.912587</td>\n",
              "    </tr>\n",
              "    <tr>\n",
              "      <th>min</th>\n",
              "      <td>0.000000</td>\n",
              "      <td>2.000000</td>\n",
              "      <td>50.000000</td>\n",
              "      <td>1.005000</td>\n",
              "      <td>0.000000</td>\n",
              "      <td>0.000000</td>\n",
              "      <td>22.000000</td>\n",
              "      <td>1.500000</td>\n",
              "      <td>0.400000</td>\n",
              "      <td>4.500000</td>\n",
              "      <td>2.500000</td>\n",
              "      <td>3.100000</td>\n",
              "    </tr>\n",
              "    <tr>\n",
              "      <th>25%</th>\n",
              "      <td>99.750000</td>\n",
              "      <td>42.000000</td>\n",
              "      <td>70.000000</td>\n",
              "      <td>1.010000</td>\n",
              "      <td>0.000000</td>\n",
              "      <td>0.000000</td>\n",
              "      <td>99.000000</td>\n",
              "      <td>27.000000</td>\n",
              "      <td>0.900000</td>\n",
              "      <td>135.000000</td>\n",
              "      <td>3.800000</td>\n",
              "      <td>10.300000</td>\n",
              "    </tr>\n",
              "    <tr>\n",
              "      <th>50%</th>\n",
              "      <td>199.500000</td>\n",
              "      <td>55.000000</td>\n",
              "      <td>80.000000</td>\n",
              "      <td>1.020000</td>\n",
              "      <td>0.000000</td>\n",
              "      <td>0.000000</td>\n",
              "      <td>121.000000</td>\n",
              "      <td>42.000000</td>\n",
              "      <td>1.300000</td>\n",
              "      <td>138.000000</td>\n",
              "      <td>4.400000</td>\n",
              "      <td>12.650000</td>\n",
              "    </tr>\n",
              "    <tr>\n",
              "      <th>75%</th>\n",
              "      <td>299.250000</td>\n",
              "      <td>64.500000</td>\n",
              "      <td>80.000000</td>\n",
              "      <td>1.020000</td>\n",
              "      <td>2.000000</td>\n",
              "      <td>0.000000</td>\n",
              "      <td>163.000000</td>\n",
              "      <td>66.000000</td>\n",
              "      <td>2.800000</td>\n",
              "      <td>142.000000</td>\n",
              "      <td>4.900000</td>\n",
              "      <td>15.000000</td>\n",
              "    </tr>\n",
              "    <tr>\n",
              "      <th>max</th>\n",
              "      <td>399.000000</td>\n",
              "      <td>90.000000</td>\n",
              "      <td>180.000000</td>\n",
              "      <td>1.025000</td>\n",
              "      <td>5.000000</td>\n",
              "      <td>5.000000</td>\n",
              "      <td>490.000000</td>\n",
              "      <td>391.000000</td>\n",
              "      <td>76.000000</td>\n",
              "      <td>163.000000</td>\n",
              "      <td>47.000000</td>\n",
              "      <td>17.800000</td>\n",
              "    </tr>\n",
              "  </tbody>\n",
              "</table>\n",
              "</div>\n",
              "      <button class=\"colab-df-convert\" onclick=\"convertToInteractive('df-ea54bb41-f0be-4b44-b012-0c2dd0f5b91b')\"\n",
              "              title=\"Convert this dataframe to an interactive table.\"\n",
              "              style=\"display:none;\">\n",
              "        \n",
              "  <svg xmlns=\"http://www.w3.org/2000/svg\" height=\"24px\"viewBox=\"0 0 24 24\"\n",
              "       width=\"24px\">\n",
              "    <path d=\"M0 0h24v24H0V0z\" fill=\"none\"/>\n",
              "    <path d=\"M18.56 5.44l.94 2.06.94-2.06 2.06-.94-2.06-.94-.94-2.06-.94 2.06-2.06.94zm-11 1L8.5 8.5l.94-2.06 2.06-.94-2.06-.94L8.5 2.5l-.94 2.06-2.06.94zm10 10l.94 2.06.94-2.06 2.06-.94-2.06-.94-.94-2.06-.94 2.06-2.06.94z\"/><path d=\"M17.41 7.96l-1.37-1.37c-.4-.4-.92-.59-1.43-.59-.52 0-1.04.2-1.43.59L10.3 9.45l-7.72 7.72c-.78.78-.78 2.05 0 2.83L4 21.41c.39.39.9.59 1.41.59.51 0 1.02-.2 1.41-.59l7.78-7.78 2.81-2.81c.8-.78.8-2.07 0-2.86zM5.41 20L4 18.59l7.72-7.72 1.47 1.35L5.41 20z\"/>\n",
              "  </svg>\n",
              "      </button>\n",
              "      \n",
              "  <style>\n",
              "    .colab-df-container {\n",
              "      display:flex;\n",
              "      flex-wrap:wrap;\n",
              "      gap: 12px;\n",
              "    }\n",
              "\n",
              "    .colab-df-convert {\n",
              "      background-color: #E8F0FE;\n",
              "      border: none;\n",
              "      border-radius: 50%;\n",
              "      cursor: pointer;\n",
              "      display: none;\n",
              "      fill: #1967D2;\n",
              "      height: 32px;\n",
              "      padding: 0 0 0 0;\n",
              "      width: 32px;\n",
              "    }\n",
              "\n",
              "    .colab-df-convert:hover {\n",
              "      background-color: #E2EBFA;\n",
              "      box-shadow: 0px 1px 2px rgba(60, 64, 67, 0.3), 0px 1px 3px 1px rgba(60, 64, 67, 0.15);\n",
              "      fill: #174EA6;\n",
              "    }\n",
              "\n",
              "    [theme=dark] .colab-df-convert {\n",
              "      background-color: #3B4455;\n",
              "      fill: #D2E3FC;\n",
              "    }\n",
              "\n",
              "    [theme=dark] .colab-df-convert:hover {\n",
              "      background-color: #434B5C;\n",
              "      box-shadow: 0px 1px 3px 1px rgba(0, 0, 0, 0.15);\n",
              "      filter: drop-shadow(0px 1px 2px rgba(0, 0, 0, 0.3));\n",
              "      fill: #FFFFFF;\n",
              "    }\n",
              "  </style>\n",
              "\n",
              "      <script>\n",
              "        const buttonEl =\n",
              "          document.querySelector('#df-ea54bb41-f0be-4b44-b012-0c2dd0f5b91b button.colab-df-convert');\n",
              "        buttonEl.style.display =\n",
              "          google.colab.kernel.accessAllowed ? 'block' : 'none';\n",
              "\n",
              "        async function convertToInteractive(key) {\n",
              "          const element = document.querySelector('#df-ea54bb41-f0be-4b44-b012-0c2dd0f5b91b');\n",
              "          const dataTable =\n",
              "            await google.colab.kernel.invokeFunction('convertToInteractive',\n",
              "                                                     [key], {});\n",
              "          if (!dataTable) return;\n",
              "\n",
              "          const docLinkHtml = 'Like what you see? Visit the ' +\n",
              "            '<a target=\"_blank\" href=https://colab.research.google.com/notebooks/data_table.ipynb>data table notebook</a>'\n",
              "            + ' to learn more about interactive tables.';\n",
              "          element.innerHTML = '';\n",
              "          dataTable['output_type'] = 'display_data';\n",
              "          await google.colab.output.renderOutput(dataTable, element);\n",
              "          const docLink = document.createElement('div');\n",
              "          docLink.innerHTML = docLinkHtml;\n",
              "          element.appendChild(docLink);\n",
              "        }\n",
              "      </script>\n",
              "    </div>\n",
              "  </div>\n",
              "  "
            ]
          },
          "metadata": {},
          "execution_count": 4
        }
      ]
    },
    {
      "cell_type": "markdown",
      "source": [
        "# Data Preprocessing"
      ],
      "metadata": {
        "id": "17hWe_-01CAg"
      }
    },
    {
      "cell_type": "code",
      "source": [
        "\n",
        "# dropping  the id column\n",
        "data.drop('id', axis = 1, inplace = True)\n",
        "\n",
        "data.info()\n",
        "     "
      ],
      "metadata": {
        "id": "EQDckgOunQRf",
        "colab": {
          "base_uri": "https://localhost:8080/"
        },
        "outputId": "0afbfdc8-85a1-400e-8c7a-9dae297257e6"
      },
      "execution_count": null,
      "outputs": [
        {
          "output_type": "stream",
          "name": "stdout",
          "text": [
            "<class 'pandas.core.frame.DataFrame'>\n",
            "Int64Index: 400 entries, 151 to 141\n",
            "Data columns (total 25 columns):\n",
            " #   Column          Non-Null Count  Dtype  \n",
            "---  ------          --------------  -----  \n",
            " 0   age             391 non-null    float64\n",
            " 1   bp              388 non-null    float64\n",
            " 2   sg              353 non-null    float64\n",
            " 3   al              354 non-null    float64\n",
            " 4   su              351 non-null    float64\n",
            " 5   rbc             248 non-null    object \n",
            " 6   pc              335 non-null    object \n",
            " 7   pcc             396 non-null    object \n",
            " 8   ba              396 non-null    object \n",
            " 9   bgr             356 non-null    float64\n",
            " 10  bu              381 non-null    float64\n",
            " 11  sc              383 non-null    float64\n",
            " 12  sod             313 non-null    float64\n",
            " 13  pot             312 non-null    float64\n",
            " 14  hemo            348 non-null    float64\n",
            " 15  pcv             330 non-null    object \n",
            " 16  wc              295 non-null    object \n",
            " 17  rc              270 non-null    object \n",
            " 18  htn             398 non-null    object \n",
            " 19  dm              398 non-null    object \n",
            " 20  cad             398 non-null    object \n",
            " 21  appet           399 non-null    object \n",
            " 22  pe              399 non-null    object \n",
            " 23  ane             399 non-null    object \n",
            " 24  classification  400 non-null    object \n",
            "dtypes: float64(11), object(14)\n",
            "memory usage: 81.2+ KB\n"
          ]
        }
      ]
    },
    {
      "cell_type": "code",
      "source": [
        "for i in data.columns:\n",
        "  print(i)\n",
        "  print(data[i].unique())\n",
        "  print(\"********************\")"
      ],
      "metadata": {
        "colab": {
          "base_uri": "https://localhost:8080/"
        },
        "id": "z0ghbVufw9ew",
        "outputId": "051a219f-baa9-4f2c-9bc5-6bff06ed01aa"
      },
      "execution_count": null,
      "outputs": [
        {
          "output_type": "stream",
          "name": "stdout",
          "text": [
            "age\n",
            "[76. 72. 70. nan 54.  2. 48. 33. 80.  5. 60. 45. 22. 52. 35. 24. 58. 47.\n",
            " 62. 34.  8. 50.  3. 25. 17. 53. 23. 37. 57. 39. 42. 68. 27. 65. 71. 63.\n",
            " 46. 73. 64.  7. 56. 14. 43. 59. 75. 69. 78. 90. 15. 66. 83. 36. 55. 21.\n",
            " 29. 51. 61. 20.  4. 32. 67. 44. 11. 19. 41. 38. 74. 30. 12. 82. 40. 79.\n",
            " 28. 81. 49.  6. 26.]\n",
            "********************\n",
            "bp\n",
            "[ 90.  60.  70.  nan 100.  80.  50. 140. 110. 180. 120.]\n",
            "********************\n",
            "sg\n",
            "[  nan 1.02  1.015 1.01  1.005 1.025]\n",
            "********************\n",
            "al\n",
            "[nan  0.  4.  3.  2.  1.  5.]\n",
            "********************\n",
            "su\n",
            "[nan  0.  2.  4.  5.  1.  3.]\n",
            "********************\n",
            "rbc\n",
            "[nan 'normal' 'abnormal']\n",
            "********************\n",
            "pc\n",
            "[nan 'normal' 'abnormal']\n",
            "********************\n",
            "pcc\n",
            "['notpresent' nan 'present']\n",
            "********************\n",
            "ba\n",
            "['notpresent' nan 'present']\n",
            "********************\n",
            "bgr\n",
            "[172. 109. 144. 104.  76.  nan 103.  92. 141. 169.  74. 425.  97. 261.\n",
            " 138. 105. 410. 490. 131. 114.  78. 153. 119.  70. 120. 124. 132. 157.\n",
            " 139. 117. 219. 380.  99.  93. 463.  87.  98. 158. 208. 242. 192. 224.\n",
            " 125. 253. 233. 255. 101. 137. 107.  81. 424. 294.  88. 248. 263. 252.\n",
            " 102.  85. 121. 297. 122.  89. 140.  94. 309.  95. 214. 234. 108. 123.\n",
            " 213. 118. 113. 184.  96. 146. 171.  83. 270.  82. 156. 150.  91. 341.\n",
            " 264. 130. 269. 111. 288. 360. 100. 116. 110. 280. 106.  79. 128. 256.\n",
            " 129. 303.  75. 251. 115. 352. 226. 127. 112. 307. 133. 134. 323. 204.\n",
            "  86. 143. 241. 447. 210. 230. 203. 220. 176. 298. 207. 165. 273.  80.\n",
            "  84. 423. 148. 238. 160. 268. 308. 239. 159. 173. 163. 201. 182. 295.\n",
            " 250. 162. 415.  90. 215.  22. 246.]\n",
            "********************\n",
            "bu\n",
            "[ 46.   26.  125.   16.   28.    nan  79.   19.   53.   47.   25.   18.\n",
            "  58.   60.   39.   31.   95.   87.   45.   22.   27.   32.   55.   38.\n",
            "  36.   48.   24.   90.   44.   29.  111.   82.   80.   64.   20.   85.\n",
            "  72.  132.   37.   15.  166.   52.   30.  142.   50.1  49.  106.   17.\n",
            "  33.  103.   74.   89.   71.   40.   76.  164.  118.  113.   35.   73.\n",
            "  41.   56.   75.   23.   50.  223.   66.   98.6  34.   42.   61.   77.\n",
            " 155.   98.   21.  163.   51.  146.   96.  115.  114.  176.  202.  107.\n",
            "  94.  137.  217.   70.  215.   68.  150.   88.  191.  162.  165.  153.\n",
            "  54.  208.  309.  180.  186.  219.  235.   86.  139.   65.  145.   57.\n",
            "  93.   67.  148.   10.  241.  391.  322.  158.  133.   92.    1.5]\n",
            "********************\n",
            "sc\n",
            "[ 1.7   0.9   4.    0.5   0.6    nan  5.3   0.8   2.2   2.9   0.7   1.1\n",
            "  1.2   1.9   2.7   5.2   1.    2.1   1.6   1.5   4.1   3.9   9.3   3.6\n",
            "  2.8   3.4   3.2  16.4   5.6   4.6  12.8   1.4   6.5   3.    4.4   1.3\n",
            "  2.6   3.3   9.7   6.1   2.3   2.5  18.1  48.1   2.    2.4   1.8   7.3\n",
            "  7.7   7.5   6.3   6.    5.9   3.25 13.8  10.8   6.7  11.5  10.2  15.2\n",
            " 11.9  12.    9.6  18.    0.4  24.    3.8   9.2  13.3   7.2  76.    6.8\n",
            " 15.   12.2  14.2   8.5   7.1   4.3  13.4  32.   13.   11.8  16.9   6.4\n",
            " 13.5 ]\n",
            "********************\n",
            "sod\n",
            "[141.  150.  136.    nan 146.  135.  138.  142.  113.  131.  139.  133.\n",
            " 137.  140.  130.  127.  124.  143.  125.  144.  132.  145.  128.  115.\n",
            " 147.  120.  134.  122.  114.  104.  111.    4.5 129.  163.  126. ]\n",
            "********************\n",
            "pot\n",
            "[ 5.5  4.9  4.6  nan  3.5  6.3  3.2  4.3  3.   3.9  3.8  3.7  4.2  4.1\n",
            "  6.4  4.7  5.3  4.4  4.   4.8  5.8  5.2 47.   5.7  5.9  5.   5.4  4.5\n",
            "  2.5  6.5  6.6  3.6  3.4  2.7  5.6  2.9  7.6  5.1  3.3 39.   2.8]\n",
            "********************\n",
            "hemo\n",
            "[ 9.6 15.  12.   nan 14.8  6.3 11.8 12.7 11.1  8.1 12.2 13.5 10.8 14.7\n",
            " 12.4 11.5 15.8 12.1 16.1 10.7 15.2 13.9  9.4 10.9 17.  11.3  9.9 13.4\n",
            " 14.4  5.6 10.5 13.   6.8 10.4 16.6 10.  17.1 10.1  9.7  8.4  8.8 14.3\n",
            " 14.  16.5 11.7  7.3  6.2 13.6 12.5  8.  16.7 15.6 12.3 11.2  8.7 15.4\n",
            " 10.2  6.  11.9 13.7 12.8 10.6 15.3 17.4 10.3 14.6 15.9 14.2  5.5 15.5\n",
            "  5.8 16.9 12.6  9.8 13.3 16.2 11.6 17.7 17.8 11.   7.9 14.9  9.1 13.8\n",
            "  9.3 17.2  8.6 13.1  4.8 14.1 15.7  8.3 16.  11.4 13.2 16.4 14.5 16.3\n",
            "  7.6  8.2  3.1  7.5 16.8  9.5  8.5 15.1  7.1 12.9  9.  17.3  7.7 17.5\n",
            "  9.2 17.6  6.6  6.1]\n",
            "********************\n",
            "pcv\n",
            "['30' '52' '37' nan '19' '34' '40' '32' '39' '42' '33' '43' '44' '35' '53'\n",
            " '50' '28' '48' '36' '16' '45' '41' '29' '47' '38' '26' '25' '23' '20'\n",
            " '18' '24' '31' '17' '54' '51' '15' '46' '\\t?' '\\t43' '49' '14' '21' '27'\n",
            " '22' '9']\n",
            "********************\n",
            "wc\n",
            "[nan '10500' '8200' '8400' '7200' '7000' '9600' '5800' '7800' '7900'\n",
            " '4200' '6900' '12000' '6800' '5400' '12300' '9200' '4300' '9800' '5000'\n",
            " '11000' '5200' '8300' '5600' '4500' '9100' '7100' '18900' '7400' '6000'\n",
            " '12200' '10700' '9500' '19100' '14900' '4700' '9000' '6200' '9400' '6700'\n",
            " '11400' '26400' '12800' '13600' '11300' '6500' '10200' '5500' '\\t?'\n",
            " '2600' '8100' '9300' '10300' '8600' '8800' '11500' '15200' '4900' '7700'\n",
            " '7500' '2200' '5100' '13200' '12400' '6300' '10900' '10400' '12700'\n",
            " '5300' '21600' '5700' '8000' '6400' '15700' '3800' '5900' '12500' '16300'\n",
            " '\\t8400' '7300' '12100' '11800' '14600' '6600' '4100' '\\t6200' '8500'\n",
            " '10800' '16700' '9700' '9900' '11900' '11200']\n",
            "********************\n",
            "rc\n",
            "[nan '5.5' '4.5' '5.9' '2.6' '5' '4.4' '6.4' '3.4' '4.0' '6.2' '6.1' '5.7'\n",
            " '5.2' '3.7' '5.0' '3.8' '5.6' '3.0' '3.6' '4.1' '5.3' '3.5' '4.6' '4.2'\n",
            " '3' '3.2' '5.4' '2.9' '4.3' '3.9' '2.3' '4' '6.0' '4.7' '3.1' '6.3' '4.8'\n",
            " '5.8' '4.9' '5.1' '2.8' '3.3' '2.7' '6.5' '2.5' '\\t?' '2.1' '8.0' '2.4']\n",
            "********************\n",
            "htn\n",
            "['yes' 'no' nan]\n",
            "********************\n",
            "dm\n",
            "['yes' 'no' nan ' yes' '\\tyes' '\\tno']\n",
            "********************\n",
            "cad\n",
            "['no' 'yes' '\\tno' nan]\n",
            "********************\n",
            "appet\n",
            "['good' 'poor' nan]\n",
            "********************\n",
            "pe\n",
            "['no' 'yes' nan]\n",
            "********************\n",
            "ane\n",
            "['yes' 'no' nan]\n",
            "********************\n",
            "classification\n",
            "['ckd' 'notckd' 'ckd\\t']\n",
            "********************\n"
          ]
        }
      ]
    },
    {
      "cell_type": "code",
      "source": [
        "data.replace({'\\t':np.nan , '\\t43':43,'\\t6200':6200 , '\\t8400':8400, '\\t?':np.nan,'ckd\\t':\"ckd\",\"\\tyes\":\"yes\",\"\\tno\":\"no\",\" yes\":\"yes\"},inplace=True)"
      ],
      "metadata": {
        "id": "g-QjmE5dxISL"
      },
      "execution_count": null,
      "outputs": []
    },
    {
      "cell_type": "code",
      "source": [
        "import matplotlib.pyplot as plt\n",
        "data['classification'].hist()\n",
        "plt.show()"
      ],
      "metadata": {
        "colab": {
          "base_uri": "https://localhost:8080/",
          "height": 430
        },
        "id": "bM-ARcUKxQUB",
        "outputId": "1b583829-f4d3-43d6-c66c-c97e3a8db67a"
      },
      "execution_count": null,
      "outputs": [
        {
          "output_type": "display_data",
          "data": {
            "text/plain": [
              "<Figure size 640x480 with 1 Axes>"
            ],
            "image/png": "[encoded data removed]"
          },
          "metadata": {}
        }
      ]
    },
    {
      "cell_type": "code",
      "source": [
        "for i in data.columns:\n",
        "  if data[i].dtypes == \"object\":\n",
        "    for j in range(len(data[i].unique())):\n",
        "      data[i].replace({data[i].unique()[j]:j},inplace=True)"
      ],
      "metadata": {
        "id": "wRFvdqDcxWIA"
      },
      "execution_count": null,
      "outputs": []
    },
    {
      "cell_type": "code",
      "source": [
        "data.dtypes"
      ],
      "metadata": {
        "colab": {
          "base_uri": "https://localhost:8080/"
        },
        "id": "CA1VNfutxXv5",
        "outputId": "a286c8a3-8e05-4515-b369-ff362e20b9b7"
      },
      "execution_count": null,
      "outputs": [
        {
          "output_type": "execute_result",
          "data": {
            "text/plain": [
              "age               float64\n",
              "bp                float64\n",
              "sg                float64\n",
              "al                float64\n",
              "su                float64\n",
              "rbc                 int64\n",
              "pc                  int64\n",
              "pcc                 int64\n",
              "ba                  int64\n",
              "bgr               float64\n",
              "bu                float64\n",
              "sc                float64\n",
              "sod               float64\n",
              "pot               float64\n",
              "hemo              float64\n",
              "pcv                 int64\n",
              "wc                  int64\n",
              "rc                  int64\n",
              "htn               float64\n",
              "dm                float64\n",
              "cad               float64\n",
              "appet             float64\n",
              "pe                float64\n",
              "ane               float64\n",
              "classification      int64\n",
              "dtype: object"
            ]
          },
          "metadata": {},
          "execution_count": 10
        }
      ]
    },
    {
      "cell_type": "code",
      "source": [
        "x = data.drop(\"classification\",axis=1)\n",
        "y = data[\"classification\"]"
      ],
      "metadata": {
        "id": "xPttNf4exaoc"
      },
      "execution_count": null,
      "outputs": []
    },
    {
      "cell_type": "code",
      "source": [
        "for i in x.columns:\n",
        "  x[i].fillna(x[i].mean(),inplace=True)"
      ],
      "metadata": {
        "id": "aHSGqb57xdlx"
      },
      "execution_count": null,
      "outputs": []
    },
    {
      "cell_type": "code",
      "source": [
        "x.isnull().sum()"
      ],
      "metadata": {
        "colab": {
          "base_uri": "https://localhost:8080/"
        },
        "id": "dZpIj27FxgPn",
        "outputId": "e303ba8b-6161-4ea1-f0c1-fd36b265ba4a"
      },
      "execution_count": null,
      "outputs": [
        {
          "output_type": "execute_result",
          "data": {
            "text/plain": [
              "age      0\n",
              "bp       0\n",
              "sg       0\n",
              "al       0\n",
              "su       0\n",
              "rbc      0\n",
              "pc       0\n",
              "pcc      0\n",
              "ba       0\n",
              "bgr      0\n",
              "bu       0\n",
              "sc       0\n",
              "sod      0\n",
              "pot      0\n",
              "hemo     0\n",
              "pcv      0\n",
              "wc       0\n",
              "rc       0\n",
              "htn      0\n",
              "dm       0\n",
              "cad      0\n",
              "appet    0\n",
              "pe       0\n",
              "ane      0\n",
              "dtype: int64"
            ]
          },
          "metadata": {},
          "execution_count": 13
        }
      ]
    },
    {
      "cell_type": "markdown",
      "source": [
        "# SMOTE"
      ],
      "metadata": {
        "id": "53PWVHE81sMB"
      }
    },
    {
      "cell_type": "code",
      "source": [
        "import pandas as pd\n",
        "from sklearn.utils import resample\n",
        "import collections\n",
        "from imblearn.over_sampling import SMOTE\n",
        "oversample=SMOTE()\n",
        "x,y=oversample.fit_resample(x,y)\n",
        "counter=collections.Counter(y)\n",
        "print(counter)\n",
        "\n",
        "counter=collections.Counter(x)\n",
        "print(counter)\n",
        "\n"
      ],
      "metadata": {
        "id": "q34rgcgucTTN",
        "colab": {
          "base_uri": "https://localhost:8080/"
        },
        "outputId": "c7f7fa8a-ad5f-4c89-94e9-87e58db8c5a2"
      },
      "execution_count": null,
      "outputs": [
        {
          "output_type": "stream",
          "name": "stdout",
          "text": [
            "Counter({0: 250, 1: 250})\n",
            "Counter({'age': 1, 'bp': 1, 'sg': 1, 'al': 1, 'su': 1, 'rbc': 1, 'pc': 1, 'pcc': 1, 'ba': 1, 'bgr': 1, 'bu': 1, 'sc': 1, 'sod': 1, 'pot': 1, 'hemo': 1, 'pcv': 1, 'wc': 1, 'rc': 1, 'htn': 1, 'dm': 1, 'cad': 1, 'appet': 1, 'pe': 1, 'ane': 1})\n"
          ]
        }
      ]
    },
    {
      "cell_type": "code",
      "source": [
        "from sklearn.model_selection import train_test_split\n",
        "X_train,X_test,y_train,y_test = train_test_split(x,y,test_size=0.25,random_state=0)"
      ],
      "metadata": {
        "id": "qq38tY81yYED"
      },
      "execution_count": null,
      "outputs": []
    },
    {
      "cell_type": "markdown",
      "source": [
        "# Classifier Algorithms"
      ],
      "metadata": {
        "id": "sfMeLAxs15Ex"
      }
    },
    {
      "cell_type": "code",
      "source": [
        "aucscores=[]\n",
        "precvalues=[]\n",
        "recallvalues=[]\n",
        "accuracies=[]"
      ],
      "metadata": {
        "id": "nuJstg2EHK9Y"
      },
      "execution_count": null,
      "outputs": []
    },
    {
      "cell_type": "markdown",
      "source": [
        "# **KNN**"
      ],
      "metadata": {
        "id": "Ev4ElPSC8vRC"
      }
    },
    {
      "cell_type": "code",
      "source": [
        "from sklearn.neighbors import KNeighborsClassifier\n",
        "\n",
        "from sklearn.metrics import classification_report,roc_auc_score,precision_score, recall_score,accuracy_score\n",
        "\n",
        "k = 10# no of nearest neighbors\n",
        "knn = KNeighborsClassifier(n_neighbors=k)\n",
        "knn.fit(X_train, y_train)\n",
        "\n",
        "# Using the test results, make predictions.\n",
        "y_predk = knn.predict(X_test)\n",
        "\n",
        "accuracy=accuracy_score(y_test,y_predk)\n",
        "print(\"Accuracy:\",accuracy)\n",
        "cls_score = classification_report(y_test, y_predk)\n",
        "print(cls_score)\n",
        "auck = roc_auc_score(y_test, y_predk)\n",
        "\n",
        "print(auck)\n",
        "print(accuracy)\n",
        "\n"
      ],
      "metadata": {
        "colab": {
          "base_uri": "https://localhost:8080/"
        },
        "id": "urrgcT2zSL9z",
        "outputId": "ef0ca09d-b886-42a9-c4d7-27e332f6c309"
      },
      "execution_count": null,
      "outputs": [
        {
          "output_type": "stream",
          "name": "stdout",
          "text": [
            "Accuracy: 0.896\n",
            "              precision    recall  f1-score   support\n",
            "\n",
            "           0       0.92      0.84      0.88        57\n",
            "           1       0.88      0.94      0.91        68\n",
            "\n",
            "    accuracy                           0.90       125\n",
            "   macro avg       0.90      0.89      0.89       125\n",
            "weighted avg       0.90      0.90      0.90       125\n",
            "\n",
            "0.891640866873065\n",
            "0.896\n"
          ]
        }
      ]
    },
    {
      "cell_type": "markdown",
      "source": [
        "# **Logistics**"
      ],
      "metadata": {
        "id": "qLkBTntO9EsJ"
      }
    },
    {
      "cell_type": "code",
      "source": [
        "\n",
        "from sklearn.linear_model import LogisticRegression\n",
        "import sklearn.metrics as metrics\n",
        "from sklearn.metrics import accuracy_score\n",
        "from sklearn.model_selection import train_test_split\n",
        "\n",
        "\n",
        "\n",
        "lr = LogisticRegression()\n",
        "# On the practise set, train the model.\n",
        "lr.fit(X_train, y_train)\n",
        "\n",
        "# Using the test results, make predictions.\n",
        "y_predlr = lr.predict(X_test)\n",
        "\n",
        "accuracy=accuracy_score(y_test,y_predlr)\n",
        "print(\"Accuracy:\",accuracy)"
      ],
      "metadata": {
        "colab": {
          "base_uri": "https://localhost:8080/"
        },
        "id": "9BtWQSAvSTv1",
        "outputId": "f7ee5fe8-729d-45da-9c91-3e684da192d0"
      },
      "execution_count": null,
      "outputs": [
        {
          "output_type": "stream",
          "name": "stdout",
          "text": [
            "Accuracy: 0.976\n"
          ]
        },
        {
          "output_type": "stream",
          "name": "stderr",
          "text": [
            "/usr/local/lib/python3.9/dist-packages/sklearn/linear_model/_logistic.py:458: ConvergenceWarning: lbfgs failed to converge (status=1):\n",
            "STOP: TOTAL NO. of ITERATIONS REACHED LIMIT.\n",
            "\n",
            "Increase the number of iterations (max_iter) or scale the data as shown in:\n",
            "    https://scikit-learn.org/stable/modules/preprocessing.html\n",
            "Please also refer to the documentation for alternative solver options:\n",
            "    https://scikit-learn.org/stable/modules/linear_model.html#logistic-regression\n",
            "  n_iter_i = _check_optimize_result(\n"
          ]
        }
      ]
    },
    {
      "cell_type": "markdown",
      "source": [
        "ANN"
      ],
      "metadata": {
        "id": "x6JAymBOGzv2"
      }
    },
    {
      "cell_type": "code",
      "source": [
        "import tensorflow as tf\n",
        "from tensorflow import keras as k\n",
        "from tensorflow.keras import layers\n",
        "from tensorflow.keras import optimizers\n",
        "from tensorflow.keras.models import Sequential\n",
        "from tensorflow.keras.layers import Dense\n",
        "from sklearn.metrics import roc_auc_score,precision_score, recall_score,f1_score\n",
        "#building model\n",
        "model = Sequential()\n",
        "\n",
        "model_2 = tf.keras.Sequential([\n",
        "    tf.keras.layers.Dense(10,activation='relu'),\n",
        "    tf.keras.layers.Dense(1,activation='sigmoid')\n",
        "])\n",
        "\n",
        "model_2.compile(loss=\"binary_crossentropy\",optimizer=tf.keras.optimizers.Adam(),metrics=[\"accuracy\"])\n",
        "# On the practise set, train the model.\n",
        "model_2.fit(X_train,y_train)\n",
        "loss, accuracy = model_2.evaluate(X_test, y_test)\n",
        "\n",
        "\n",
        " #Using the test results, make predictions.\n",
        "y_predANN = model_2.predict(X_test)\n",
        "\n",
        "# Calculating the AUC score\n",
        "auc_score = roc_auc_score(y_test, y_predANN)\n",
        "\n",
        "# Printing the results\n",
        "print(\"Accuracy:\", accuracy)\n",
        "print(\"AUC Score:\", auc_score)\n",
        "\n",
        "y_predANN_binary = np.where(y_predANN >= 0.5, 1, 0)\n",
        "precision = precision_score(y_test, y_predANN_binary)\n",
        "recall = recall_score(y_test, y_predANN_binary)\n",
        "f1 = f1_score(y_test, y_predANN_binary)\n",
        "aucscores.append(auc_score*100)\n",
        "precvalues.append(precision*100)\n",
        "recallvalues.append(recall*100)\n",
        "accuracies.append(accuracy*100)\n",
        "print(\"F1\",f1)"
      ],
      "metadata": {
        "colab": {
          "base_uri": "https://localhost:8080/"
        },
        "id": "RBJEjfkPG2GU",
        "outputId": "f669dcce-2d2b-4d2e-8f05-6712db2d09ea"
      },
      "execution_count": null,
      "outputs": [
        {
          "output_type": "stream",
          "name": "stdout",
          "text": [
            "12/12 [==============================] - 2s 8ms/step - loss: 3.8495 - accuracy: 0.5840\n",
            "4/4 [==============================] - 0s 8ms/step - loss: 3.0404 - accuracy: 0.6560\n",
            "4/4 [==============================] - 0s 6ms/step\n",
            "Accuracy: 0.656000018119812\n",
            "AUC Score: 0.7414860681114551\n",
            "F1 0.6260869565217391\n"
          ]
        }
      ]
    },
    {
      "cell_type": "markdown",
      "source": [
        "C5.0 **ALGORITHM**"
      ],
      "metadata": {
        "id": "DC3O3zntN5E3"
      }
    },
    {
      "cell_type": "code",
      "source": [
        "import pandas as pd\n",
        "from sklearn.tree import DecisionTreeClassifier\n",
        "from sklearn.metrics import accuracy_score,precision_score, recall_score\n",
        "from sklearn.metrics import classification_report\n",
        "from sklearn.model_selection import train_test_split\n",
        "from sklearn import metrics\n",
        "\n",
        "# Defining  the C5.0 (J48) classifier\n",
        "c50 = DecisionTreeClassifier(criterion='entropy', max_depth=3)\n",
        "\n",
        "# Training the model\n",
        "c50.fit(X_train, y_train)\n",
        "\n",
        "# Using the test results, make predictions.\n",
        "y_pred = c50.predict(X_test)\n",
        "\n",
        "# Calculating the accuracy\n",
        "accuracy = accuracy_score(y_test, y_pred)\n",
        "print('Accuracy:', accuracy)\n",
        "cls_score = classification_report(y_test, y_pred)\n",
        "print(cls_score)\n",
        "auc = metrics.roc_auc_score(y_test, y_pred)\n",
        "\n",
        "print(auc)\n",
        "\n",
        "precision = precision_score(y_test, y_pred, average='macro')\n",
        "recall = recall_score(y_test, y_pred, average='macro')\n",
        "aucscores.append(auc*100)\n",
        "precvalues.append(precision*100)\n",
        "recallvalues.append(recall*100)\n",
        "accuracies.append(accuracy*100)"
      ],
      "metadata": {
        "id": "0HVbmktxcTXF",
        "colab": {
          "base_uri": "https://localhost:8080/"
        },
        "outputId": "1fcf4618-4d79-4646-e493-5b96b747983b"
      },
      "execution_count": null,
      "outputs": [
        {
          "output_type": "stream",
          "name": "stdout",
          "text": [
            "Accuracy: 0.984\n",
            "              precision    recall  f1-score   support\n",
            "\n",
            "           0       0.97      1.00      0.98        57\n",
            "           1       1.00      0.97      0.99        68\n",
            "\n",
            "    accuracy                           0.98       125\n",
            "   macro avg       0.98      0.99      0.98       125\n",
            "weighted avg       0.98      0.98      0.98       125\n",
            "\n",
            "0.9852941176470589\n"
          ]
        }
      ]
    },
    {
      "cell_type": "markdown",
      "source": [
        "LSVM PENALTY **L1**"
      ],
      "metadata": {
        "id": "if4F5nl0Sg87"
      }
    },
    {
      "cell_type": "code",
      "source": [
        "from sklearn.svm import LinearSVC\n",
        "from sklearn.model_selection import train_test_split\n",
        "from sklearn.metrics import accuracy_score, f1_score, classification_report,precision_score, recall_score\n",
        "target_var = \"classification\"\n",
        "predictor_vars = list(data.columns)\n",
        "predictor_vars.remove(target_var)\n",
        "\n",
        " # Transform the target variable to binary (0 or 1) format.\n",
        "data[target_var] = pd.factorize(data[target_var])[0]\n",
        "\n",
        "# Create an LSVM model with a lambda value of 0.5 and the L1 penalty.\n",
        "model2 = LinearSVC(penalty='l1', dual=False, C=0.5, max_iter=10000)\n",
        "\n",
        "# On the practise set, train the model.\n",
        "model2.fit(X_train, y_train)\n",
        "\n",
        "# Using the test results, make predictions.\n",
        "y_predl1 = model2.predict(X_test)\n",
        "\n",
        "# Calculating the accuracy\n",
        "accuracy = accuracy_score(y_test, y_predl1)\n",
        "print(accuracy)\n",
        "\n",
        "\n",
        "cls_score = classification_report(y_test, y_predl1)\n",
        "print(cls_score)\n",
        "\n",
        "auc = metrics.roc_auc_score(y_test, y_predl1)\n",
        "\n",
        "print(auc)\n",
        "aucscores.append(auc*100)\n",
        "precision = precision_score(y_test, y_predl1, average='macro')\n",
        "recall = recall_score(y_test, y_predl1, average='macro')\n",
        "\n",
        "precvalues.append(precision*100)\n",
        "recallvalues.append(recall*100)\n",
        "accuracies.append(accuracy*100)"
      ],
      "metadata": {
        "id": "q1-UsbOxWHlE",
        "colab": {
          "base_uri": "https://localhost:8080/"
        },
        "outputId": "0312f902-dba9-4163-8bba-3283e3ed2577"
      },
      "execution_count": null,
      "outputs": [
        {
          "output_type": "stream",
          "name": "stdout",
          "text": [
            "0.976\n",
            "              precision    recall  f1-score   support\n",
            "\n",
            "           0       0.97      0.98      0.97        57\n",
            "           1       0.99      0.97      0.98        68\n",
            "\n",
            "    accuracy                           0.98       125\n",
            "   macro avg       0.98      0.98      0.98       125\n",
            "weighted avg       0.98      0.98      0.98       125\n",
            "\n",
            "0.9765221878224974\n"
          ]
        }
      ]
    },
    {
      "cell_type": "markdown",
      "source": [
        "LSVM **PENALTY** L2"
      ],
      "metadata": {
        "id": "SqjM076CSl0F"
      }
    },
    {
      "cell_type": "code",
      "source": [
        "from sklearn.svm import LinearSVC\n",
        "from sklearn.model_selection import train_test_split\n",
        "from sklearn.metrics import accuracy_score, f1_score, classification_report,precision_score, recall_score\n",
        "target_var = \"classification\"\n",
        "predictor_vars = list(data.columns)\n",
        "predictor_vars.remove(target_var)\n",
        "\n",
        "# Transform the target variable to binary (0 or 1) format.\n",
        "data[target_var] = pd.factorize(data[target_var])[0]\n",
        "\n",
        "\n",
        "\n",
        "# Create an LSVM model with a lambda value of 0.5 and the L2 penalty.\n",
        "model = LinearSVC(penalty='l2', dual=False, C=0.5, max_iter=10000)\n",
        "\n",
        "# On the practise set, train the model.\n",
        "model.fit(X_train, y_train)\n",
        "\n",
        "# Using the test results, make predictions.\n",
        "y_predl2 = model.predict(X_test)\n",
        "\n",
        "# Calculating the accuracy\n",
        "accuracy = accuracy_score(y_test, y_predl2)\n",
        "print(accuracy)\n",
        "\n",
        "\n",
        "cls_score = classification_report(y_test, y_predl2)\n",
        "print(cls_score)\n",
        "\n",
        "auc2 = metrics.roc_auc_score(y_test, y_predl2)\n",
        "\n",
        "print(auc2)\n",
        "\n",
        "precision = precision_score(y_test, y_predl2, average='macro')\n",
        "recall = recall_score(y_test, y_predl2, average='macro')\n",
        "aucscores.append(auc2*100)\n",
        "\n",
        "precvalues.append(precision*100)\n",
        "recallvalues.append(recall*100)\n",
        "accuracies.append(accuracy*100)"
      ],
      "metadata": {
        "id": "qAZEi5l8sMcn",
        "colab": {
          "base_uri": "https://localhost:8080/"
        },
        "outputId": "0cba562e-fc17-49ad-c15f-8cbcb6949323"
      },
      "execution_count": null,
      "outputs": [
        {
          "output_type": "stream",
          "name": "stdout",
          "text": [
            "0.984\n",
            "              precision    recall  f1-score   support\n",
            "\n",
            "           0       0.97      1.00      0.98        57\n",
            "           1       1.00      0.97      0.99        68\n",
            "\n",
            "    accuracy                           0.98       125\n",
            "   macro avg       0.98      0.99      0.98       125\n",
            "weighted avg       0.98      0.98      0.98       125\n",
            "\n",
            "0.9852941176470589\n"
          ]
        }
      ]
    },
    {
      "cell_type": "markdown",
      "source": [
        "Random Tree"
      ],
      "metadata": {
        "id": "eDOiiKr4HDIA"
      }
    },
    {
      "cell_type": "code",
      "source": [
        "from sklearn.ensemble import RandomForestClassifier\n",
        "from sklearn.metrics import accuracy_score,precision_score, recall_score\n",
        "from sklearn.model_selection import train_test_split\n",
        "\n",
        "\n",
        "\n",
        "#Create a 50-tree random forest classifier.\n",
        "rfc = RandomForestClassifier(n_estimators=50)\n",
        "\n",
        "# On the practise set, train the model.\n",
        "rfc.fit(X_train, y_train)\n",
        "\n",
        "# Using the test results, make predictions.\n",
        "\n",
        "y_predr = rfc.predict(X_test)\n",
        "\n",
        "# Calculating the accuracy\n",
        "accuracy = accuracy_score(y_test, y_predr)\n",
        "print('Accuracy:', accuracy)\n",
        "cls_score = classification_report(y_test, y_predr)\n",
        "print(cls_score)\n",
        "auc = metrics.roc_auc_score(y_test, y_predr)\n",
        "\n",
        "print(auc)\n",
        "\n",
        "precision = precision_score(y_test, y_predr, average='macro')\n",
        "recall = recall_score(y_test, y_predr, average='macro')\n",
        "aucscores.append(auc*100)\n",
        "precvalues.append(precision*100)\n",
        "recallvalues.append(recall*100)\n",
        "accuracies.append(accuracy*100)"
      ],
      "metadata": {
        "colab": {
          "base_uri": "https://localhost:8080/"
        },
        "id": "8hO5lMBeHGB7",
        "outputId": "6beeb8b3-7348-44b2-8728-862fc1df08e8"
      },
      "execution_count": null,
      "outputs": [
        {
          "output_type": "stream",
          "name": "stdout",
          "text": [
            "Accuracy: 1.0\n",
            "              precision    recall  f1-score   support\n",
            "\n",
            "           0       1.00      1.00      1.00        57\n",
            "           1       1.00      1.00      1.00        68\n",
            "\n",
            "    accuracy                           1.00       125\n",
            "   macro avg       1.00      1.00      1.00       125\n",
            "weighted avg       1.00      1.00      1.00       125\n",
            "\n",
            "1.0\n"
          ]
        }
      ]
    },
    {
      "cell_type": "code",
      "source": [
        "print(accuracies)"
      ],
      "metadata": {
        "colab": {
          "base_uri": "https://localhost:8080/"
        },
        "id": "0J7n-HRgEfTV",
        "outputId": "b4901530-9c4d-4db0-f041-a0263565b1a1"
      },
      "execution_count": null,
      "outputs": [
        {
          "output_type": "stream",
          "name": "stdout",
          "text": [
            "[65.6000018119812, 98.4, 97.6, 98.4, 100.0]\n"
          ]
        }
      ]
    },
    {
      "cell_type": "markdown",
      "source": [
        "AUC Performance Curve"
      ],
      "metadata": {
        "id": "q-iWjx9RFvi8"
      }
    },
    {
      "cell_type": "code",
      "source": [
        "import matplotlib.pyplot as plt\n",
        "models=['ANN','C5.0','LSVM1','LSVM2','RANDOM TREE']\n",
        "\n",
        "plt.figure(figsize=(8,8))\n",
        "plt.plot(models, aucscores, marker='o', color='blue')\n",
        "plt.xlabel('Models')\n",
        "plt.ylabel('AUC Score')\n",
        "plt.title('AUC Score Comparison')\n",
        "plt.ylim(0.0, 100.0)\n",
        "plt.grid(True)\n",
        "plt.show()\n",
        "\n",
        "\n",
        "\n",
        "\n",
        "\n"
      ],
      "metadata": {
        "colab": {
          "base_uri": "https://localhost:8080/",
          "height": 718
        },
        "id": "RpqpXN7AF3G0",
        "outputId": "74e2665e-4eea-424c-a544-1446402cddf0"
      },
      "execution_count": null,
      "outputs": [
        {
          "output_type": "display_data",
          "data": {
            "text/plain": [
              "<Figure size 800x800 with 1 Axes>"
            ],
            "image/png": "[encoded data removed]"
          },
          "metadata": {}
        }
      ]
    },
    {
      "cell_type": "markdown",
      "source": [
        "AUC Bar Graph"
      ],
      "metadata": {
        "id": "PA7ofXdbY8GQ"
      }
    },
    {
      "cell_type": "code",
      "source": [
        "import matplotlib.pyplot as plt\n",
        "plt.bar(models, aucscores, color='blue')\n",
        "\n",
        "# Add axis labels and title\n",
        "plt.xlabel(\"Models\")\n",
        "plt.ylabel(\"AUC Scores\")\n",
        "plt.title(\"Comparison of AUC Scores for Different Models\")\n",
        "\n",
        "# Display the plot\n",
        "plt.show()"
      ],
      "metadata": {
        "colab": {
          "base_uri": "https://localhost:8080/",
          "height": 472
        },
        "id": "IHT5jKpJY7co",
        "outputId": "39b8c474-5338-4508-a86e-0569ca780f73"
      },
      "execution_count": null,
      "outputs": [
        {
          "output_type": "display_data",
          "data": {
            "text/plain": [
              "<Figure size 640x480 with 1 Axes>"
            ],
            "image/png": "[encoded data removed]"
          },
          "metadata": {}
        }
      ]
    },
    {
      "cell_type": "code",
      "source": [
        "import matplotlib.pyplot as plt\n",
        "plt.bar(models, aucscores, color='blue')\n",
        "\n",
        "# Add axis labels and title\n",
        "plt.xlabel(\"Models\")\n",
        "plt.ylabel(\"AUC Scores\")\n",
        "plt.title(\"Comparison of AUC Scores for Different Models\")\n",
        "fig = plt.figure(figsize=(10, 6))\n",
        "\n",
        "# Display the plot\n",
        "plt.show()"
      ],
      "metadata": {
        "id": "uL-HfECEBjvh",
        "colab": {
          "base_uri": "https://localhost:8080/",
          "height": 489
        },
        "outputId": "8d55356e-7378-4e25-cbb6-d2e398ef5fbe"
      },
      "execution_count": null,
      "outputs": [
        {
          "output_type": "display_data",
          "data": {
            "text/plain": [
              "<Figure size 640x480 with 1 Axes>"
            ],
            "image/png": "[encoded data removed]"
          },
          "metadata": {}
        },
        {
          "output_type": "display_data",
          "data": {
            "text/plain": [
              "<Figure size 1000x600 with 0 Axes>"
            ]
          },
          "metadata": {}
        }
      ]
    },
    {
      "cell_type": "markdown",
      "source": [
        " Comparison of precision, recall and accuracy for all 5 classifiers with SMOTE and full features.\n",
        "\n",
        "---\n",
        "\n"
      ],
      "metadata": {
        "id": "ulF7kZT7dWAM"
      }
    },
    {
      "cell_type": "code",
      "source": [
        "print(accuracies)\n",
        "print(precvalues)\n",
        "print(recallvalues)\n"
      ],
      "metadata": {
        "colab": {
          "base_uri": "https://localhost:8080/"
        },
        "id": "jizApoRsdSrP",
        "outputId": "77b20326-ffbf-4530-8b5e-d24755102511"
      },
      "execution_count": null,
      "outputs": [
        {
          "output_type": "stream",
          "name": "stdout",
          "text": [
            "[65.6000018119812, 98.4, 97.6, 98.4, 100.0]\n",
            "[76.59574468085107, 98.30508474576271, 97.5295934122491, 98.30508474576271, 100.0]\n",
            "[52.94117647058824, 98.52941176470588, 97.65221878224975, 98.52941176470588, 100.0]\n"
          ]
        }
      ]
    },
    {
      "cell_type": "code",
      "source": [
        "import matplotlib.pyplot as plt\n",
        "fig, ax = plt.subplots()\n",
        "x = range(len(models))\n",
        "plt.bar(x, precvalues, width=0.2, label='Precision',color='#3182bd')\n",
        "plt.bar([i + 0.2 for i in x], recallvalues, width=0.2, label='Recall',color='#6baed6')\n",
        "plt.bar([i + 0.4 for i in x], accuracies, width=0.2, label='Accuracy',color='#9ecae1')\n",
        "plt.xticks([i + 0.2 for i in x], models)\n",
        "plt.legend()\n",
        "plt.title('Model Performance')\n",
        "plt.xlabel('Models')\n",
        "plt.ylabel('Percentage')\n",
        "plt.ylim(0, 110)\n",
        "\n",
        "plt.show()"
      ],
      "metadata": {
        "colab": {
          "base_uri": "https://localhost:8080/",
          "height": 472
        },
        "id": "PC75h-_7lkMH",
        "outputId": "b894d2e1-a32e-4e5d-bbf3-b2a9911fd2cb"
      },
      "execution_count": null,
      "outputs": [
        {
          "output_type": "display_data",
          "data": {
            "text/plain": [
              "<Figure size 640x480 with 1 Axes>"
            ],
            "image/png": "[encoded data removed]"
          },
          "metadata": {}
        }
      ]
    }
  ]
}